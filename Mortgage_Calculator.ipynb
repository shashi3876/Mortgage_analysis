{
  "nbformat": 4,
  "nbformat_minor": 0,
  "metadata": {
    "colab": {
      "provenance": [],
      "authorship_tag": "ABX9TyP+xfGOazq1OAZQhH3F/lOQ"
    },
    "kernelspec": {
      "name": "python3",
      "display_name": "Python 3"
    },
    "language_info": {
      "name": "python"
    }
  },
  "cells": [
    {
      "cell_type": "code",
      "execution_count": null,
      "metadata": {
        "colab": {
          "base_uri": "https://localhost:8080/"
        },
        "id": "AshmDyim1MPr",
        "outputId": "7aff2f04-17a4-432d-ac5e-41f2636b3c91"
      },
      "outputs": [
        {
          "output_type": "stream",
          "name": "stdout",
          "text": [
            "Total amount paid: 161474\n",
            "Remaining balance: 467321\n",
            "Total amount paid: 172765\n",
            "Remaining balance: 441834\n",
            "Ahead by: 14196\n",
            "Mor 1: 2691\n",
            "Mor 2: 2879\n"
          ]
        },
        {
          "output_type": "stream",
          "name": "stderr",
          "text": [
            "<ipython-input-1-8988956d5ad3>:40: FutureWarning: The behavior of DataFrame concatenation with empty or all-NA entries is deprecated. In a future version, this will no longer exclude empty or all-NA columns when determining the result dtypes. To retain the old behavior, exclude the relevant entries before the concat operation.\n",
            "  mortgage_data = pd.concat([mortgage_data, pd.DataFrame({'Payment Number': [i],\n",
            "<ipython-input-1-8988956d5ad3>:40: FutureWarning: The behavior of DataFrame concatenation with empty or all-NA entries is deprecated. In a future version, this will no longer exclude empty or all-NA columns when determining the result dtypes. To retain the old behavior, exclude the relevant entries before the concat operation.\n",
            "  mortgage_data = pd.concat([mortgage_data, pd.DataFrame({'Payment Number': [i],\n"
          ]
        }
      ],
      "source": [
        "import pandas as pd\n",
        "import numpy as np\n",
        "\n",
        "def calculate_mortgage_term(principal, interest_rate, term_years, amortization_years, payment_frequency=12):\n",
        "  \"\"\"Calculates mortgage payments for a specific term.\n",
        "\n",
        "  Args:\n",
        "    principal: The initial mortgage amount.\n",
        "    interest_rate: The annual interest rate as a decimal (e.g., 0.05 for 5%).\n",
        "    term_years: The length of the mortgage term.\n",
        "    amortization_years: The total amortization period.\n",
        "    payment_frequency: The number of payments per year (default is 12 for monthly).\n",
        "\n",
        "  Returns:\n",
        "    A tuple containing a pandas DataFrame with payments and total amount paid and remaining balance.\n",
        "  \"\"\"\n",
        "\n",
        "  # Calculate monthly interest rate and total number of payments\n",
        "  monthly_interest_rate = interest_rate / payment_frequency\n",
        "  total_payments = amortization_years * payment_frequency\n",
        "  term_payments = term_years * payment_frequency\n",
        "\n",
        "  # Calculate monthly payment based on full amortization\n",
        "  monthly_payment = (principal * monthly_interest_rate) / (1 - (1 + monthly_interest_rate)**(-total_payments))\n",
        "\n",
        "  # Create a DataFrame to store payment information\n",
        "  mortgage_data = pd.DataFrame(columns=['Payment Number', 'Payment Amount', 'Interest Paid', 'Principal Paid', 'Remaining Balance'])\n",
        "\n",
        "  # Initialize variables for total paid and remaining balance\n",
        "  total_paid = 0\n",
        "  remaining_balance = principal\n",
        "\n",
        "  # Calculate payments for the specified term\n",
        "  for i in range(1, term_payments + 1):\n",
        "    interest_paid = remaining_balance * monthly_interest_rate\n",
        "    principal_paid = monthly_payment - interest_paid\n",
        "    remaining_balance -= principal_paid\n",
        "    total_paid += monthly_payment\n",
        "\n",
        "    mortgage_data = pd.concat([mortgage_data, pd.DataFrame({'Payment Number': [i],\n",
        "                                         'Payment Amount': [monthly_payment],\n",
        "                                         'Interest Paid': [interest_paid],\n",
        "                                         'Principal Paid': [principal_paid],\n",
        "                                         'Remaining Balance': [remaining_balance]})], ignore_index=True)\n",
        "\n",
        "  return mortgage_data, total_paid, remaining_balance, monthly_payment\n",
        "\n",
        "# Example usage\n",
        "principal1 = 510000\n",
        "interest_rate1 = 0.0485  # 4% interest rate\n",
        "term_years1 = 5\n",
        "amortization_years1 = 30\n",
        "\n",
        "mortgage1, total_paid1, remaining_balance1, monthly_payment1 = calculate_mortgage_term(principal1, interest_rate1, term_years1, amortization_years1)\n",
        "\n",
        "#print(mortgage1.tail())\n",
        "print(\"Total amount paid:\", round(total_paid1))\n",
        "print(\"Remaining balance:\", round(remaining_balance1))\n",
        "\n",
        "\n",
        "# Example usage\n",
        "principal1 = 500000\n",
        "interest_rate1 = 0.0485  # 4% interest rate\n",
        "term_years1 = 5\n",
        "amortization_years1 = 25\n",
        "\n",
        "mortgage2, total_paid2, remaining_balance2, monthly_payment2 = calculate_mortgage_term(principal1, interest_rate1, term_years1, amortization_years1)\n",
        "\n",
        "#print(mortgage1.tail())\n",
        "print(\"Total amount paid:\", round(total_paid2))\n",
        "print(\"Remaining balance:\", round(remaining_balance2))\n",
        "ahead_by=total_paid1-total_paid2+remaining_balance1-remaining_balance2\n",
        "print(\"Ahead by:\", round(ahead_by))\n",
        "print(f'Mor 1: {round(monthly_payment1)}')\n",
        "print(f'Mor 2: {round(monthly_payment2)}')"
      ]
    },
    {
      "cell_type": "code",
      "source": [
        "total_paid2+remaining_balance2"
      ],
      "metadata": {
        "colab": {
          "base_uri": "https://localhost:8080/"
        },
        "id": "TbEZu18kJz53",
        "outputId": "586ea2a8-4ff5-4430-e3c3-c69fb7c0e026"
      },
      "execution_count": null,
      "outputs": [
        {
          "output_type": "execute_result",
          "data": {
            "text/plain": [
              "614599.0050914073"
            ]
          },
          "metadata": {},
          "execution_count": 2
        }
      ]
    },
    {
      "cell_type": "code",
      "source": [
        "total_paid1+remaining_balance1"
      ],
      "metadata": {
        "colab": {
          "base_uri": "https://localhost:8080/"
        },
        "id": "6auYTSzBJ4VX",
        "outputId": "e5a8e1da-1c1b-4a06-c091-7cda6f56dd11"
      },
      "execution_count": null,
      "outputs": [
        {
          "output_type": "execute_result",
          "data": {
            "text/plain": [
              "582524.9271399488"
            ]
          },
          "metadata": {},
          "execution_count": 4
        }
      ]
    },
    {
      "cell_type": "code",
      "source": [
        "import pandas as pd\n",
        "import numpy as np\n",
        "from datetime import datetime, timedelta\n",
        "\n",
        "def calculate_mortgage_term_variable(principal, interest_rates, term_years, amortization_years, start_date, payment_frequency=12):\n",
        "  \"\"\"Calculates mortgage payments for a specific term with variable interest rates.\n",
        "\n",
        "  Args:\n",
        "    principal: The initial mortgage amount.\n",
        "    interest_rates: A dictionary of interest rates with their start dates.\n",
        "    term_years: The length of the mortgage term.\n",
        "    amortization_years: The total amortization period.\n",
        "    start_date: The start date of the mortgage.\n",
        "    payment_frequency: The number of payments per year (default is 12 for monthly).\n",
        "\n",
        "  Returns:\n",
        "    A pandas DataFrame with payments, total amount paid, and remaining balance.\n",
        "  \"\"\"\n",
        "\n",
        "  # Convert interest rates to a list of tuples (start_date, interest_rate)\n",
        "  interest_rate_data = sorted(interest_rates.items())\n",
        "\n",
        "  # Convert start dates to datetime objects\n",
        "  interest_rate_data = [(datetime.strptime(date_str, '%Y-%m-%d'), rate) for date_str, rate in interest_rate_data]\n",
        "\n",
        "  # Calculate total payments and monthly payment based on initial interest rate\n",
        "  total_payments = amortization_years * payment_frequency\n",
        "  initial_interest_rate = interest_rate_data[0][1]\n",
        "  monthly_interest_rate = initial_interest_rate / payment_frequency\n",
        "  monthly_payment = (principal * monthly_interest_rate) / (1 - (1 + monthly_interest_rate)**(-total_payments))\n",
        "\n",
        "  # Create a DataFrame to store payment information\n",
        "  mortgage_data = pd.DataFrame(columns=['Payment Date', 'Payment Amount', 'Interest Paid', 'Principal Paid', 'Remaining Balance'])\n",
        "\n",
        "  # Initialize variables\n",
        "  remaining_balance = principal\n",
        "  total_paid = 0\n",
        "  payment_date = start_date\n",
        "\n",
        "  # Iterate through interest rate periods\n",
        "  for i, (start_date, interest_rate) in enumerate(interest_rate_data):\n",
        "    monthly_interest_rate = interest_rate / payment_frequency\n",
        "    end_date = interest_rate_data[i + 1][0] if i < len(interest_rate_data) - 1 else start_date + timedelta(days=365 * term_years)\n",
        "    days_in_period = (end_date - start_date).days\n",
        "\n",
        "    # Calculate number of payments in the period\n",
        "    payments_in_period = int(days_in_period / (365 / payment_frequency))\n",
        "\n",
        "    for j in range(payments_in_period):\n",
        "      interest_paid = remaining_balance * monthly_interest_rate\n",
        "      principal_paid = monthly_payment - interest_paid\n",
        "      remaining_balance -= principal_paid\n",
        "      total_paid += monthly_payment\n",
        "\n",
        "      mortgage_data = pd.concat([mortgage_data, pd.DataFrame({'Payment Date': [payment_date],\n",
        "                                                        'Payment Amount': [monthly_payment],\n",
        "                                                        'Interest Paid': [interest_paid],\n",
        "                                                        'Principal Paid': [principal_paid],\n",
        "                                                        'Remaining Balance': [remaining_balance]})], ignore_index=True)\n",
        "      payment_date += timedelta(days=365 / payment_frequency)\n",
        "\n",
        "  return mortgage_data, total_paid, remaining_balance\n",
        "\n",
        "# Example usage\n",
        "principal = 510000\n",
        "interest_rates = {'2024-08-31': 0.045, '2025-03-23': 0.040}\n",
        "start_date = datetime(2024, 8, 31)\n",
        "term_years = 3\n",
        "amortization_years = 25\n",
        "\n",
        "mortgage, total_paid, remaining_balance = calculate_mortgage_term_variable(principal, interest_rates, term_years, amortization_years, start_date)\n",
        "\n",
        "#print(mortgage.tail())\n",
        "print(\"Total amount paid:\", round(total_paid))\n",
        "print(\"Remaining balance:\", round(remaining_balance))\n",
        "\n",
        "# Example usage\n",
        "principal1 = 510000\n",
        "interest_rate1 = 0.0489  # 4% interest rate\n",
        "term_years1 = 3\n",
        "amortization_years1 = 25\n",
        "\n",
        "mortgage1, total_paid1, remaining_balance1 = calculate_mortgage_term(principal1, interest_rate1, term_years1, amortization_years1)\n",
        "\n",
        "#print(mortgage1.tail())\n",
        "print(\"Total amount paid:\", round(total_paid1))\n",
        "print(\"Remaining balance:\", round(remaining_balance1))\n",
        "\n",
        "\n",
        "# Example usage\n",
        "principal1 = 510000\n",
        "interest_rate1 = 0.0454  # 4% interest rate\n",
        "term_years1 = 5\n",
        "amortization_years1 = 25\n",
        "\n",
        "mortgage2, total_paid2, remaining_balance2 = calculate_mortgage_term(principal1, interest_rate1, term_years1-2, amortization_years1)\n",
        "\n",
        "#print(mortgage1.tail())\n",
        "print(\"Total amount paid:\", round(total_paid2))\n",
        "print(\"Remaining balance:\", round(remaining_balance2))\n",
        "ahead_by=total_paid1-total_paid2+remaining_balance1-remaining_balance2\n",
        "print(\"Ahead by:\", round(ahead_by))\n",
        "print()"
      ],
      "metadata": {
        "colab": {
          "base_uri": "https://localhost:8080/"
        },
        "id": "ygYs5hU-4G6L",
        "outputId": "5cb03197-0cd1-4ffe-df03-254cc02f73ce"
      },
      "execution_count": null,
      "outputs": [
        {
          "output_type": "stream",
          "name": "stdout",
          "text": [
            "Total amount paid: 119059\n",
            "Remaining balance: 460377\n",
            "Total amount paid: 106157\n",
            "Remaining balance: 476318\n",
            "Total amount paid: 102468\n",
            "Remaining balance: 474712\n",
            "Ahead by: 5295\n",
            "\n"
          ]
        }
      ]
    },
    {
      "cell_type": "markdown",
      "source": [],
      "metadata": {
        "id": "-rAPHQfBOM3t"
      }
    }
  ]
}